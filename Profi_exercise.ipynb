{
 "cells": [
  {
   "cell_type": "code",
   "execution_count": 1,
   "metadata": {},
   "outputs": [],
   "source": [
    "from scipy import stats\n",
    "import numpy as np"
   ]
  },
  {
   "cell_type": "markdown",
   "metadata": {},
   "source": [
    "### Задание\n",
    "\n",
    "Подкинули монету N раз. Кол-во случаев, когда выпал орёл, на 10% больше, чем кол-во случаев, когда выпала решка. При каком N мы можем сказать, что монета «нечестная» (орёл и решка выпадают с разной вероятностью)?\n"
   ]
  },
  {
   "cell_type": "markdown",
   "metadata": {},
   "source": [
    "Выборка представляет из себя - бинарный вектор длины N, где 1 - выпал орёл, 0 - выпала решка. \n",
    "\n",
    "H0 - нулевая гипотеза - монета честная, и вероятность выпадения орла и решки одинакова и равна 0.5\n",
    "\n",
    "H1 - альтернативная гипотеза - монета нечестная. "
   ]
  },
  {
   "cell_type": "markdown",
   "metadata": {},
   "source": [
    "Пусть x - выпала решка, тогда выпадение орла = x + 0.1*x = 1.1x\n",
    "\n",
    "Общее количество событий = количество выпадений решки + количество выпадений орла, т.е. N = x+1.1x = 2.1x\n",
    "\n",
    "Таким образом, выпадение решки = N/2.1, а выпадение орла = 1.1 * N/2.1 = 0.524*N"
   ]
  },
  {
   "cell_type": "markdown",
   "metadata": {},
   "source": [
    "Предположим, что верна нулевая гипотеза. В таком случае успех и неудача происходят равновероятно. "
   ]
  },
  {
   "cell_type": "code",
   "execution_count": 2,
   "metadata": {},
   "outputs": [
    {
     "name": "stdout",
     "output_type": "stream",
     "text": [
      "Количество экспериментов = 1731, значение p-value = 0.04870361520515429\n"
     ]
    }
   ],
   "source": [
    "for n in np.arange(2,2000):\n",
    "    F_H0 = stats.binom(n,0.5)\n",
    "    p = stats.binom_test(0.524*n,n,0.5, alternative='two-sided')\n",
    "    if p < 0.05: #проверка на уровне значимости 0.05\n",
    "        print(f'Количество экспериментов = {n}, значение p-value = {p}')\n",
    "        break"
   ]
  },
  {
   "cell_type": "markdown",
   "metadata": {},
   "source": [
    "Вывод - при N = 1731 мы можем отклонить нулевую гипотезу на уровне значимости 0.05 и сказать, что монеты нечестные. "
   ]
  }
 ],
 "metadata": {
  "kernelspec": {
   "display_name": "Python 3",
   "language": "python",
   "name": "python3"
  },
  "language_info": {
   "codemirror_mode": {
    "name": "ipython",
    "version": 3
   },
   "file_extension": ".py",
   "mimetype": "text/x-python",
   "name": "python",
   "nbconvert_exporter": "python",
   "pygments_lexer": "ipython3",
   "version": "3.8.5"
  }
 },
 "nbformat": 4,
 "nbformat_minor": 4
}
